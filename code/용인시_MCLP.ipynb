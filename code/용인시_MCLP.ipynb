{
  "nbformat": 4,
  "nbformat_minor": 0,
  "metadata": {
    "colab": {
      "provenance": []
    },
    "kernelspec": {
      "name": "python3",
      "display_name": "Python 3"
    },
    "language_info": {
      "name": "python"
    }
  },
  "cells": [
    {
      "cell_type": "markdown",
      "source": [
        "https://hipster4020.tistory.com/79"
      ],
      "metadata": {
        "id": "RKutb2tp6nDh"
      }
    },
    {
      "cell_type": "markdown",
      "source": [
        "https://github.com/cyang-kth/maximum-coverage-location"
      ],
      "metadata": {
        "id": "kbcGnnqG6wsS"
      }
    },
    {
      "cell_type": "markdown",
      "source": [
        "https://colab.research.google.com/github/Gurobi/modeling-examples/blob/master/facility_location/facility_location_gcl.ipynb#scrollTo=mKg4EQZ-_Z2R"
      ],
      "metadata": {
        "id": "Ssln2JXL_x8b"
      }
    },
    {
      "cell_type": "markdown",
      "source": [
        "solve a facility location optimization model python"
      ],
      "metadata": {
        "id": "pQ2QB0SC_z9V"
      }
    },
    {
      "cell_type": "code",
      "source": [
        "! pip install geopandas"
      ],
      "metadata": {
        "id": "DPofyh7H9hPp"
      },
      "execution_count": null,
      "outputs": []
    },
    {
      "cell_type": "code",
      "source": [
        "! pip install gurobipy"
      ],
      "metadata": {
        "colab": {
          "base_uri": "https://localhost:8080/"
        },
        "id": "eFy-GczqMyH2",
        "outputId": "9fb57b70-4c26-4120-b591-b83177a5a5d3"
      },
      "execution_count": null,
      "outputs": [
        {
          "output_type": "stream",
          "name": "stdout",
          "text": [
            "Looking in indexes: https://pypi.org/simple, https://us-python.pkg.dev/colab-wheels/public/simple/\n",
            "Collecting gurobipy\n",
            "  Downloading gurobipy-9.5.1-cp37-cp37m-manylinux2014_x86_64.whl (11.5 MB)\n",
            "\u001b[K     |████████████████████████████████| 11.5 MB 4.8 MB/s \n",
            "\u001b[?25hInstalling collected packages: gurobipy\n",
            "Successfully installed gurobipy-9.5.1\n"
          ]
        }
      ]
    },
    {
      "cell_type": "code",
      "execution_count": null,
      "metadata": {
        "colab": {
          "base_uri": "https://localhost:8080/"
        },
        "id": "ZLSBLf195OUa",
        "outputId": "60d4d8de-d366-4fda-b028-d34ad6a59d78"
      },
      "outputs": [
        {
          "output_type": "stream",
          "name": "stdout",
          "text": [
            "Mounted at /content/drive\n"
          ]
        }
      ],
      "source": [
        "from google.colab import drive\n",
        "drive.mount('/content/drive')"
      ]
    },
    {
      "cell_type": "code",
      "source": [
        "import pandas as pd\n",
        "import numpy as np\n",
        "import matplotlib.pyplot as plt\n",
        "import seaborn as sns\n",
        "import geopandas"
      ],
      "metadata": {
        "id": "i1zGwH0r7QMR"
      },
      "execution_count": null,
      "outputs": []
    },
    {
      "cell_type": "code",
      "source": [
        "# fdshop_raw = pd.read_csv('refined/food_raw.csv',sep=',',encoding = 'utf-8-sig')\n",
        "fdshop = pd.read_excel('/content/drive/Shareddrives/데마 팀플 2/텀프로젝트/SIG_20220324/용인시경로당2.xlsx')\n",
        "fdshop"
      ],
      "metadata": {
        "colab": {
          "base_uri": "https://localhost:8080/",
          "height": 424
        },
        "id": "DnKacw0S50xB",
        "outputId": "10b5fddd-9e14-4d8b-b907-0fcb070be0ed"
      },
      "execution_count": null,
      "outputs": [
        {
          "output_type": "execute_result",
          "data": {
            "text/plain": [
              "        연번  읍면동             경로당 명칭                           소 재 지   Latitude  \\\n",
              "0      1.0  포곡읍            삼계1리경로당    경기도 용인시 처인구 포곡읍 포곡로297번길10-5  37.281620   \n",
              "1      2.0  포곡읍            삼계2리경로당    경기도 용인시 처인구 포곡읍 백옥대로1910번길 9  37.296687   \n",
              "2      3.0  포곡읍            삼계3리경로당  경기도 용인시 처인구 포곡읍 백옥대로1800번길47-8  37.287358   \n",
              "3      4.0  포곡읍            삼계4리경로당       경기도 용인시 처인구 포곡읍 두계로20번길 8  37.279430   \n",
              "4      5.0  포곡읍            삼계5리경로당   경기도 용인시 처인구 포곡읍 백옥대로1800번길 22  37.286968   \n",
              "..     ...  ...                ...                             ...        ...   \n",
              "299  378.0  동부동       해곡리경로당 (용인시)        경기도 용인시 처인구 동부로 743(해곡동)  37.188279   \n",
              "300  379.0  동부동     호동경로당 (호동새마을회)       경기도 용인시 처인구 호동로32번길 2(호동)  37.207046   \n",
              "301  380.0  동부동    예직경로당 (호2통새마을회)           경기도 용인시 처인구 예직로37(호동)  37.189103   \n",
              "302  381.0  동부동  호3통 경로당 (호3통새마을회)    경기도 용인시 처인구 해실로46번길 61-5(호동)  37.178903   \n",
              "303  382.0  동부동  길업 경로당 (호동길업새마을회)    경기도 용인시 처인구 동부로464번길 7-8(호동)  37.201412   \n",
              "\n",
              "      Longitude   층수   회원수   난방방식         연 락 처       등 록 일  시설면적(㎡)  \n",
              "0    127.231881  1.0  42.0   도시가스  031-332-5238    1/1/1983    66.00  \n",
              "1    127.234598  1.0  48.0   도시가스  031-322-6459    1/1/1978    99.00  \n",
              "2    127.238736  1.0  26.0   도시가스  031-332-7857  10/14/2004    68.40  \n",
              "3    127.233689  1.0  50.0   도시가스  031-334-4109   3/31/2004   131.00  \n",
              "4    127.236662  1.0  25.0   심야전기  031-321-4116   2/12/2004    99.00  \n",
              "..          ...  ...   ...    ...           ...         ...      ...  \n",
              "299  127.269469  1.0  34.0  심야보일러  031-339-4289    1/1/2002   119.71  \n",
              "300  127.234283  1.0  28.0  심야보일러  031-321-3481    1/1/1998    90.60  \n",
              "301  127.258616  1.0  25.0  심야보일러  031-333-3775    1/1/1997    96.30  \n",
              "302  127.270821  1.0  21.0  심야보일러  031-323-1809   2/11/2011    48.75  \n",
              "303  127.244387  1.0  20.0  심야보일러  031-333-3328   6/29/2010    95.20  \n",
              "\n",
              "[304 rows x 12 columns]"
            ],
            "text/html": [
              "\n",
              "  <div id=\"df-0389677a-d35a-43a3-b03d-e8e0a0e83b02\">\n",
              "    <div class=\"colab-df-container\">\n",
              "      <div>\n",
              "<style scoped>\n",
              "    .dataframe tbody tr th:only-of-type {\n",
              "        vertical-align: middle;\n",
              "    }\n",
              "\n",
              "    .dataframe tbody tr th {\n",
              "        vertical-align: top;\n",
              "    }\n",
              "\n",
              "    .dataframe thead th {\n",
              "        text-align: right;\n",
              "    }\n",
              "</style>\n",
              "<table border=\"1\" class=\"dataframe\">\n",
              "  <thead>\n",
              "    <tr style=\"text-align: right;\">\n",
              "      <th></th>\n",
              "      <th>연번</th>\n",
              "      <th>읍면동</th>\n",
              "      <th>경로당 명칭</th>\n",
              "      <th>소 재 지</th>\n",
              "      <th>Latitude</th>\n",
              "      <th>Longitude</th>\n",
              "      <th>층수</th>\n",
              "      <th>회원수</th>\n",
              "      <th>난방방식</th>\n",
              "      <th>연 락 처</th>\n",
              "      <th>등 록 일</th>\n",
              "      <th>시설면적(㎡)</th>\n",
              "    </tr>\n",
              "  </thead>\n",
              "  <tbody>\n",
              "    <tr>\n",
              "      <th>0</th>\n",
              "      <td>1.0</td>\n",
              "      <td>포곡읍</td>\n",
              "      <td>삼계1리경로당</td>\n",
              "      <td>경기도 용인시 처인구 포곡읍 포곡로297번길10-5</td>\n",
              "      <td>37.281620</td>\n",
              "      <td>127.231881</td>\n",
              "      <td>1.0</td>\n",
              "      <td>42.0</td>\n",
              "      <td>도시가스</td>\n",
              "      <td>031-332-5238</td>\n",
              "      <td>1/1/1983</td>\n",
              "      <td>66.00</td>\n",
              "    </tr>\n",
              "    <tr>\n",
              "      <th>1</th>\n",
              "      <td>2.0</td>\n",
              "      <td>포곡읍</td>\n",
              "      <td>삼계2리경로당</td>\n",
              "      <td>경기도 용인시 처인구 포곡읍 백옥대로1910번길 9</td>\n",
              "      <td>37.296687</td>\n",
              "      <td>127.234598</td>\n",
              "      <td>1.0</td>\n",
              "      <td>48.0</td>\n",
              "      <td>도시가스</td>\n",
              "      <td>031-322-6459</td>\n",
              "      <td>1/1/1978</td>\n",
              "      <td>99.00</td>\n",
              "    </tr>\n",
              "    <tr>\n",
              "      <th>2</th>\n",
              "      <td>3.0</td>\n",
              "      <td>포곡읍</td>\n",
              "      <td>삼계3리경로당</td>\n",
              "      <td>경기도 용인시 처인구 포곡읍 백옥대로1800번길47-8</td>\n",
              "      <td>37.287358</td>\n",
              "      <td>127.238736</td>\n",
              "      <td>1.0</td>\n",
              "      <td>26.0</td>\n",
              "      <td>도시가스</td>\n",
              "      <td>031-332-7857</td>\n",
              "      <td>10/14/2004</td>\n",
              "      <td>68.40</td>\n",
              "    </tr>\n",
              "    <tr>\n",
              "      <th>3</th>\n",
              "      <td>4.0</td>\n",
              "      <td>포곡읍</td>\n",
              "      <td>삼계4리경로당</td>\n",
              "      <td>경기도 용인시 처인구 포곡읍 두계로20번길 8</td>\n",
              "      <td>37.279430</td>\n",
              "      <td>127.233689</td>\n",
              "      <td>1.0</td>\n",
              "      <td>50.0</td>\n",
              "      <td>도시가스</td>\n",
              "      <td>031-334-4109</td>\n",
              "      <td>3/31/2004</td>\n",
              "      <td>131.00</td>\n",
              "    </tr>\n",
              "    <tr>\n",
              "      <th>4</th>\n",
              "      <td>5.0</td>\n",
              "      <td>포곡읍</td>\n",
              "      <td>삼계5리경로당</td>\n",
              "      <td>경기도 용인시 처인구 포곡읍 백옥대로1800번길 22</td>\n",
              "      <td>37.286968</td>\n",
              "      <td>127.236662</td>\n",
              "      <td>1.0</td>\n",
              "      <td>25.0</td>\n",
              "      <td>심야전기</td>\n",
              "      <td>031-321-4116</td>\n",
              "      <td>2/12/2004</td>\n",
              "      <td>99.00</td>\n",
              "    </tr>\n",
              "    <tr>\n",
              "      <th>...</th>\n",
              "      <td>...</td>\n",
              "      <td>...</td>\n",
              "      <td>...</td>\n",
              "      <td>...</td>\n",
              "      <td>...</td>\n",
              "      <td>...</td>\n",
              "      <td>...</td>\n",
              "      <td>...</td>\n",
              "      <td>...</td>\n",
              "      <td>...</td>\n",
              "      <td>...</td>\n",
              "      <td>...</td>\n",
              "    </tr>\n",
              "    <tr>\n",
              "      <th>299</th>\n",
              "      <td>378.0</td>\n",
              "      <td>동부동</td>\n",
              "      <td>해곡리경로당 (용인시)</td>\n",
              "      <td>경기도 용인시 처인구 동부로 743(해곡동)</td>\n",
              "      <td>37.188279</td>\n",
              "      <td>127.269469</td>\n",
              "      <td>1.0</td>\n",
              "      <td>34.0</td>\n",
              "      <td>심야보일러</td>\n",
              "      <td>031-339-4289</td>\n",
              "      <td>1/1/2002</td>\n",
              "      <td>119.71</td>\n",
              "    </tr>\n",
              "    <tr>\n",
              "      <th>300</th>\n",
              "      <td>379.0</td>\n",
              "      <td>동부동</td>\n",
              "      <td>호동경로당 (호동새마을회)</td>\n",
              "      <td>경기도 용인시 처인구 호동로32번길 2(호동)</td>\n",
              "      <td>37.207046</td>\n",
              "      <td>127.234283</td>\n",
              "      <td>1.0</td>\n",
              "      <td>28.0</td>\n",
              "      <td>심야보일러</td>\n",
              "      <td>031-321-3481</td>\n",
              "      <td>1/1/1998</td>\n",
              "      <td>90.60</td>\n",
              "    </tr>\n",
              "    <tr>\n",
              "      <th>301</th>\n",
              "      <td>380.0</td>\n",
              "      <td>동부동</td>\n",
              "      <td>예직경로당 (호2통새마을회)</td>\n",
              "      <td>경기도 용인시 처인구 예직로37(호동)</td>\n",
              "      <td>37.189103</td>\n",
              "      <td>127.258616</td>\n",
              "      <td>1.0</td>\n",
              "      <td>25.0</td>\n",
              "      <td>심야보일러</td>\n",
              "      <td>031-333-3775</td>\n",
              "      <td>1/1/1997</td>\n",
              "      <td>96.30</td>\n",
              "    </tr>\n",
              "    <tr>\n",
              "      <th>302</th>\n",
              "      <td>381.0</td>\n",
              "      <td>동부동</td>\n",
              "      <td>호3통 경로당 (호3통새마을회)</td>\n",
              "      <td>경기도 용인시 처인구 해실로46번길 61-5(호동)</td>\n",
              "      <td>37.178903</td>\n",
              "      <td>127.270821</td>\n",
              "      <td>1.0</td>\n",
              "      <td>21.0</td>\n",
              "      <td>심야보일러</td>\n",
              "      <td>031-323-1809</td>\n",
              "      <td>2/11/2011</td>\n",
              "      <td>48.75</td>\n",
              "    </tr>\n",
              "    <tr>\n",
              "      <th>303</th>\n",
              "      <td>382.0</td>\n",
              "      <td>동부동</td>\n",
              "      <td>길업 경로당 (호동길업새마을회)</td>\n",
              "      <td>경기도 용인시 처인구 동부로464번길 7-8(호동)</td>\n",
              "      <td>37.201412</td>\n",
              "      <td>127.244387</td>\n",
              "      <td>1.0</td>\n",
              "      <td>20.0</td>\n",
              "      <td>심야보일러</td>\n",
              "      <td>031-333-3328</td>\n",
              "      <td>6/29/2010</td>\n",
              "      <td>95.20</td>\n",
              "    </tr>\n",
              "  </tbody>\n",
              "</table>\n",
              "<p>304 rows × 12 columns</p>\n",
              "</div>\n",
              "      <button class=\"colab-df-convert\" onclick=\"convertToInteractive('df-0389677a-d35a-43a3-b03d-e8e0a0e83b02')\"\n",
              "              title=\"Convert this dataframe to an interactive table.\"\n",
              "              style=\"display:none;\">\n",
              "        \n",
              "  <svg xmlns=\"http://www.w3.org/2000/svg\" height=\"24px\"viewBox=\"0 0 24 24\"\n",
              "       width=\"24px\">\n",
              "    <path d=\"M0 0h24v24H0V0z\" fill=\"none\"/>\n",
              "    <path d=\"M18.56 5.44l.94 2.06.94-2.06 2.06-.94-2.06-.94-.94-2.06-.94 2.06-2.06.94zm-11 1L8.5 8.5l.94-2.06 2.06-.94-2.06-.94L8.5 2.5l-.94 2.06-2.06.94zm10 10l.94 2.06.94-2.06 2.06-.94-2.06-.94-.94-2.06-.94 2.06-2.06.94z\"/><path d=\"M17.41 7.96l-1.37-1.37c-.4-.4-.92-.59-1.43-.59-.52 0-1.04.2-1.43.59L10.3 9.45l-7.72 7.72c-.78.78-.78 2.05 0 2.83L4 21.41c.39.39.9.59 1.41.59.51 0 1.02-.2 1.41-.59l7.78-7.78 2.81-2.81c.8-.78.8-2.07 0-2.86zM5.41 20L4 18.59l7.72-7.72 1.47 1.35L5.41 20z\"/>\n",
              "  </svg>\n",
              "      </button>\n",
              "      \n",
              "  <style>\n",
              "    .colab-df-container {\n",
              "      display:flex;\n",
              "      flex-wrap:wrap;\n",
              "      gap: 12px;\n",
              "    }\n",
              "\n",
              "    .colab-df-convert {\n",
              "      background-color: #E8F0FE;\n",
              "      border: none;\n",
              "      border-radius: 50%;\n",
              "      cursor: pointer;\n",
              "      display: none;\n",
              "      fill: #1967D2;\n",
              "      height: 32px;\n",
              "      padding: 0 0 0 0;\n",
              "      width: 32px;\n",
              "    }\n",
              "\n",
              "    .colab-df-convert:hover {\n",
              "      background-color: #E2EBFA;\n",
              "      box-shadow: 0px 1px 2px rgba(60, 64, 67, 0.3), 0px 1px 3px 1px rgba(60, 64, 67, 0.15);\n",
              "      fill: #174EA6;\n",
              "    }\n",
              "\n",
              "    [theme=dark] .colab-df-convert {\n",
              "      background-color: #3B4455;\n",
              "      fill: #D2E3FC;\n",
              "    }\n",
              "\n",
              "    [theme=dark] .colab-df-convert:hover {\n",
              "      background-color: #434B5C;\n",
              "      box-shadow: 0px 1px 3px 1px rgba(0, 0, 0, 0.15);\n",
              "      filter: drop-shadow(0px 1px 2px rgba(0, 0, 0, 0.3));\n",
              "      fill: #FFFFFF;\n",
              "    }\n",
              "  </style>\n",
              "\n",
              "      <script>\n",
              "        const buttonEl =\n",
              "          document.querySelector('#df-0389677a-d35a-43a3-b03d-e8e0a0e83b02 button.colab-df-convert');\n",
              "        buttonEl.style.display =\n",
              "          google.colab.kernel.accessAllowed ? 'block' : 'none';\n",
              "\n",
              "        async function convertToInteractive(key) {\n",
              "          const element = document.querySelector('#df-0389677a-d35a-43a3-b03d-e8e0a0e83b02');\n",
              "          const dataTable =\n",
              "            await google.colab.kernel.invokeFunction('convertToInteractive',\n",
              "                                                     [key], {});\n",
              "          if (!dataTable) return;\n",
              "\n",
              "          const docLinkHtml = 'Like what you see? Visit the ' +\n",
              "            '<a target=\"_blank\" href=https://colab.research.google.com/notebooks/data_table.ipynb>data table notebook</a>'\n",
              "            + ' to learn more about interactive tables.';\n",
              "          element.innerHTML = '';\n",
              "          dataTable['output_type'] = 'display_data';\n",
              "          await google.colab.output.renderOutput(dataTable, element);\n",
              "          const docLink = document.createElement('div');\n",
              "          docLink.innerHTML = docLinkHtml;\n",
              "          element.appendChild(docLink);\n",
              "        }\n",
              "      </script>\n",
              "    </div>\n",
              "  </div>\n",
              "  "
            ]
          },
          "metadata": {},
          "execution_count": 5
        }
      ]
    },
    {
      "cell_type": "code",
      "source": [
        "fdshop_arr = fdshop[['읍면동','경로당 명칭','소 재 지','Longitude','Latitude']]\n",
        "fdshop_arr.columns = ['읍면동','경로당 명칭','소 재 지','x', 'y']"
      ],
      "metadata": {
        "id": "sHPBZXov59zd"
      },
      "execution_count": null,
      "outputs": []
    },
    {
      "cell_type": "code",
      "source": [
        "yongin_client = fdshop_arr.plot.scatter(x='x', y='y', figsize=(8, 8), grid = True)"
      ],
      "metadata": {
        "colab": {
          "base_uri": "https://localhost:8080/",
          "height": 497
        },
        "id": "vO2E2z0RMmMQ",
        "outputId": "7ef490ff-806a-4083-9803-fe74e4469eb7"
      },
      "execution_count": null,
      "outputs": [
        {
          "output_type": "display_data",
          "data": {
            "text/plain": [
              "<Figure size 576x576 with 1 Axes>"
            ],
            "image/png": "[encoded data removed]"
          },
          "metadata": {
            "needs_background": "light"
          }
        }
      ]
    },
    {
      "cell_type": "code",
      "source": [
        "import numpy as np\n",
        "from scipy.spatial import distance_matrix\n",
        "from gurobipy import *\n",
        "from scipy.spatial import ConvexHull\n",
        "from shapely.geometry import Polygon, Point\n",
        "from numpy import random\n",
        "\n",
        "def generate_candidate_sites(points,M=100):\n",
        "    '''\n",
        "    Generate M candidate sites with the convex hull of a point set\n",
        "    Input:\n",
        "        points: a Numpy array with shape of (N,2)\n",
        "        M: the number of candidate sites to generate\n",
        "    Return:\n",
        "        sites: a Numpy array with shape of (M,2)\n",
        "    '''\n",
        "    hull = ConvexHull(points)\n",
        "    polygon_points = points[hull.vertices]\n",
        "    poly = Polygon(polygon_points)\n",
        "    min_x, min_y, max_x, max_y = poly.bounds\n",
        "    sites = []\n",
        "    while len(sites) < M:\n",
        "        random_point = Point([random.uniform(min_x, max_x),\n",
        "                             random.uniform(min_y, max_y)])\n",
        "        if (random_point.within(poly)):\n",
        "            sites.append(random_point)\n",
        "    return np.array([(p.x,p.y) for p in sites])\n",
        "\n",
        "    \"\"\"\n",
        "    Solve maximum covering location problem\n",
        "    Input:\n",
        "        points: input points, Numpy array in shape of [N,2]\n",
        "        K: the number of sites to select\n",
        "        radius: the radius of circle\n",
        "        M: the number of candidate sites, which will randomly generated inside\n",
        "        the ConvexHull wrapped by the polygon\n",
        "    Return:\n",
        "        opt_sites: locations K optimal sites, Numpy array in shape of [K,2]\n",
        "        f: the optimal value of the objective function\n",
        "    \"\"\"\n",
        "def mclp(points,K,radius,M):\n",
        "    print('----- Configurations -----')\n",
        "    print('  Number of points %g' % points.shape[0])\n",
        "    print('  K %g' % K)\n",
        "    print('  Radius %g' % radius)\n",
        "    print('  M %g' % M)\n",
        "    import time\n",
        "    start = time.time()\n",
        "    sites = generate_candidate_sites(points,M)\n",
        "    J = sites.shape[0]\n",
        "    I = points.shape[0]\n",
        "    D = distance_matrix(points,sites)\n",
        "    mask1 = D<=radius\n",
        "    D[mask1]=1\n",
        "    D[~mask1]=0\n",
        "    # Build model\n",
        "    m = Model()\n",
        "    # Add variables\n",
        "    x = {}\n",
        "    y = {}\n",
        "    for i in range(I):\n",
        "      y[i] = m.addVar(vtype=GRB.BINARY, name=\"y%d\" % i)\n",
        "    for j in range(J):\n",
        "      x[j] = m.addVar(vtype=GRB.BINARY, name=\"x%d\" % j)\n",
        "\n",
        "    m.update()\n",
        "    # Add constraints\n",
        "    m.addConstr(quicksum(x[j] for j in range(J)) == K)\n",
        "\n",
        "    for i in range(I):\n",
        "        m.addConstr(quicksum(x[j] for j in np.where(D[i]==1)[0]) >= y[i])\n",
        "\n",
        "    m.setObjective(quicksum(y[i]for i in range(I)),GRB.MAXIMIZE)\n",
        "    m.setParam('OutputFlag', 0)\n",
        "    m.optimize()\n",
        "    end = time.time()\n",
        "    print('----- Output -----')\n",
        "    print('  Running time : %s seconds' % float(end-start))\n",
        "    print('  Optimal coverage points: %g' % m.objVal)\n",
        "    \n",
        "    solution = []\n",
        "    if m.status == GRB.Status.OPTIMAL:\n",
        "        for v in m.getVars():\n",
        "            # print v.varName,v.x\n",
        "            if v.x==1 and v.varName[0]==\"x\":\n",
        "               solution.append(int(v.varName[1:]))\n",
        "    opt_sites = sites[solution]\n",
        "    return opt_sites,m.objVal\n",
        "\n",
        "def plot_input(points):\n",
        "    '''\n",
        "    Plot the result\n",
        "    Input:\n",
        "        points: input points, Numpy array in shape of [N,2]\n",
        "        opt_sites: locations K optimal sites, Numpy array in shape of [K,2]\n",
        "        radius: the radius of circle\n",
        "    '''\n",
        "    from matplotlib import pyplot as plt\n",
        "    fig = plt.figure(figsize=(8,8))\n",
        "    plt.scatter(points[:,0],points[:,1],c='C0')\n",
        "    ax = plt.gca()\n",
        "    ax.axis('equal')\n",
        "    ax.tick_params(axis='both',left=False, top=False, right=False,\n",
        "                       bottom=False, labelleft=False, labeltop=False,\n",
        "                       labelright=False, labelbottom=False)\n",
        "\n",
        "def plot_result(points,opt_sites,radius):\n",
        "    '''\n",
        "    Plot the result\n",
        "    Input:\n",
        "        points: input points, Numpy array in shape of [N,2]\n",
        "        opt_sites: locations K optimal sites, Numpy array in shape of [K,2]\n",
        "        radius: the radius of circle\n",
        "    '''\n",
        "    from matplotlib import pyplot as plt\n",
        "    fig = plt.figure(figsize=(8,8))\n",
        "    plt.scatter(points[:,0],points[:,1],c='C0')\n",
        "    ax = plt.gca()\n",
        "    plt.scatter(opt_sites[:,0],opt_sites[:,1],c='C1',marker='+')\n",
        "    for site in opt_sites:\n",
        "        circle = plt.Circle(site, radius, color='C1',fill=False,lw=2)\n",
        "        ax.add_artist(circle)\n",
        "    ax.axis('equal')\n",
        "    ax.tick_params(axis='both',left=False, top=False, right=False,\n",
        "                       bottom=False, labelleft=False, labeltop=False,\n",
        "                       labelright=False, labelbottom=False)\n",
        "    return opt_sites[:,0],opt_sites[:,1]"
      ],
      "metadata": {
        "id": "Jl3jYCXcM6Mg"
      },
      "execution_count": null,
      "outputs": []
    },
    {
      "cell_type": "code",
      "source": [
        "import numpy as np\n",
        "Npoints = 300\n",
        "# Generate points in uniform distribution \n",
        "# points = np.random.rand(Npoints,2)\n",
        "\n",
        "# Generate points in moon distribution\n",
        "from sklearn.datasets import make_moons\n",
        "points,_ = make_moons(Npoints,noise=0.15)"
      ],
      "metadata": {
        "id": "Ujl6QatkNoS9"
      },
      "execution_count": null,
      "outputs": []
    },
    {
      "cell_type": "code",
      "source": [
        "# Plot input data\n",
        "plot_input(points)"
      ],
      "metadata": {
        "colab": {
          "base_uri": "https://localhost:8080/",
          "height": 466
        },
        "id": "b-TemLEXNkLU",
        "outputId": "b761aa24-51f6-4e93-f86f-ef49bd03522c"
      },
      "execution_count": null,
      "outputs": [
        {
          "output_type": "display_data",
          "data": {
            "text/plain": [
              "<Figure size 576x576 with 1 Axes>"
            ],
            "image/png": "[encoded data removed]"
          },
          "metadata": {}
        }
      ]
    },
    {
      "cell_type": "code",
      "source": [
        "points"
      ],
      "metadata": {
        "id": "4Yr-WHNFOi5M"
      },
      "execution_count": null,
      "outputs": []
    },
    {
      "cell_type": "code",
      "source": [
        "yongin_client"
      ],
      "metadata": {
        "colab": {
          "base_uri": "https://localhost:8080/"
        },
        "id": "zBoIcYenOvKK",
        "outputId": "6d59f289-c7af-45e1-e34f-1d380821b7b6"
      },
      "execution_count": null,
      "outputs": [
        {
          "output_type": "execute_result",
          "data": {
            "text/plain": [
              "<matplotlib.axes._subplots.AxesSubplot at 0x7f59c9d31310>"
            ]
          },
          "metadata": {},
          "execution_count": 14
        }
      ]
    },
    {
      "cell_type": "code",
      "source": [
        "xx=fdshop['Latitude'].values\n",
        "xx[0:5]"
      ],
      "metadata": {
        "id": "jNRf0LJpPUe0",
        "colab": {
          "base_uri": "https://localhost:8080/"
        },
        "outputId": "25744161-cb26-4c9d-afea-6d7018f57ad0"
      },
      "execution_count": null,
      "outputs": [
        {
          "output_type": "execute_result",
          "data": {
            "text/plain": [
              "array([37.2816196, 37.2966873, 37.2873579, 37.27943  , 37.2869679])"
            ]
          },
          "metadata": {},
          "execution_count": 15
        }
      ]
    },
    {
      "cell_type": "code",
      "source": [
        "xx.shape"
      ],
      "metadata": {
        "colab": {
          "base_uri": "https://localhost:8080/"
        },
        "id": "sKMA3nsQceQ8",
        "outputId": "044962de-ecc3-4639-dc92-0c915e618d1a"
      },
      "execution_count": null,
      "outputs": [
        {
          "output_type": "execute_result",
          "data": {
            "text/plain": [
              "(304,)"
            ]
          },
          "metadata": {},
          "execution_count": 16
        }
      ]
    },
    {
      "cell_type": "code",
      "source": [
        "yy=fdshop['Longitude'].values\n",
        "yy [0:5]"
      ],
      "metadata": {
        "id": "HfvzVc6uPmqh",
        "colab": {
          "base_uri": "https://localhost:8080/"
        },
        "outputId": "10e97cfc-42fc-4ce1-9c44-e28b61451732"
      },
      "execution_count": null,
      "outputs": [
        {
          "output_type": "execute_result",
          "data": {
            "text/plain": [
              "array([127.2318807, 127.2345981, 127.2387356, 127.2336892, 127.2366622])"
            ]
          },
          "metadata": {},
          "execution_count": 17
        }
      ]
    },
    {
      "cell_type": "code",
      "source": [
        "target_list=[]\n",
        "for i in range(304):\n",
        "  c=[xx[i],yy[i]]\n",
        "  target_list.append(c)\n",
        "\n",
        "target_list[0:5]\n",
        "  "
      ],
      "metadata": {
        "id": "8-oPdxq3PUkD",
        "colab": {
          "base_uri": "https://localhost:8080/"
        },
        "outputId": "02017472-5fe3-4dd5-aa60-d1babab0a508"
      },
      "execution_count": null,
      "outputs": [
        {
          "output_type": "execute_result",
          "data": {
            "text/plain": [
              "[[37.2816196, 127.2318807],\n",
              " [37.2966873, 127.2345981],\n",
              " [37.2873579, 127.2387356],\n",
              " [37.27943, 127.2336892],\n",
              " [37.2869679, 127.2366622]]"
            ]
          },
          "metadata": {},
          "execution_count": 18
        }
      ]
    },
    {
      "cell_type": "code",
      "source": [
        "import numpy as np"
      ],
      "metadata": {
        "id": "1yfTKSikQ4wu"
      },
      "execution_count": null,
      "outputs": []
    },
    {
      "cell_type": "code",
      "source": [
        "target_array=np.array(target_list)\n",
        "target_array"
      ],
      "metadata": {
        "id": "ggYHNFL7Q7ZT"
      },
      "execution_count": null,
      "outputs": []
    },
    {
      "cell_type": "code",
      "source": [
        "# Number of sites to select\n",
        "K = 4\n",
        "\n",
        "# Service radius of each site\n",
        "radius = 0.07\n",
        "\n",
        "# Candidate site size (random sites generated)\n",
        "M = 100\n",
        "\n",
        "# Run mclp opt_sites is the location of optimal sites and f is the points covered\n",
        "opt_sites,f = mclp(target_array,K,radius,M)\n",
        "\n",
        "# Plot the result\n",
        "plot_result(target_array,opt_sites,radius)"
      ],
      "metadata": {
        "colab": {
          "base_uri": "https://localhost:8080/",
          "height": 640
        },
        "id": "wN1r7XNGdag0",
        "outputId": "84cf8f8b-8d4f-4ab6-ec02-91a265a8bd6c"
      },
      "execution_count": null,
      "outputs": [
        {
          "output_type": "stream",
          "name": "stdout",
          "text": [
            "----- Configurations -----\n",
            "  Number of points 304\n",
            "  K 4\n",
            "  Radius 0.07\n",
            "  M 100\n",
            "----- Output -----\n",
            "  Running time : 0.07447457313537598 seconds\n",
            "  Optimal coverage points: 295\n"
          ]
        },
        {
          "output_type": "execute_result",
          "data": {
            "text/plain": [
              "(array([37.15403125, 37.22756145, 37.15342317, 37.32437679]),\n",
              " array([127.15948313, 127.27481401, 127.36882889, 127.20433219]))"
            ]
          },
          "metadata": {},
          "execution_count": 47
        },
        {
          "output_type": "display_data",
          "data": {
            "text/plain": [
              "<Figure size 576x576 with 1 Axes>"
            ],
            "image/png": "[encoded data removed]"
          },
          "metadata": {}
        }
      ]
    }
  ]
}